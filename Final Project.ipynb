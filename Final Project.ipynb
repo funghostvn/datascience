{
    "nbformat_minor": 1, 
    "cells": [
        {
            "source": "# 1. Introduction\nI'm working in Bank. My Bank is focus to retail banking. So, we need build ATM, Merchan network to improve quality of payment services.\n\n## 1.1. Business Problem\n\nWe neea a decision support system (DSS) to support decision-making in remap ATM, Merchan network. \n\nFirstly, we will use Foursquare location data to cluster areas of city. Base on information of data we decide: Which place should be setup new agent, which place need to remap.\n\nWe also focus about characteristics of place: Shopping, Restaurant, Trave place to setup suitable agent. For example: If the place have many shopping center, we need setup more merchant, more POS (Point of Sales)...\nWith information from endpoint of Foursquare, we have some marketing campaign to increase business. We need some information: trend, photo, tip, ... to build content based recommender systems   \n\n## 1.2. Methology\n\nWe use CRISP-DM methodology to build project. \n- Data Understaing: We collect and analytics data\n- Data Preparation: Clean, merge and transform data\n- Modelling \n- Evaluation and deploy\n\n# 2. Data\n\nwe will use data source:\n- Foursquare\n- Location map from Google\n- My ATM/POS network\n", 
            "cell_type": "markdown", 
            "metadata": {
                "collapsed": true
            }
        }, 
        {
            "execution_count": null, 
            "cell_type": "code", 
            "metadata": {}, 
            "outputs": [], 
            "source": ""
        }
    ], 
    "metadata": {
        "kernelspec": {
            "display_name": "Python 3.6", 
            "name": "python3", 
            "language": "python"
        }, 
        "language_info": {
            "mimetype": "text/x-python", 
            "nbconvert_exporter": "python", 
            "version": "3.6.8", 
            "name": "python", 
            "file_extension": ".py", 
            "pygments_lexer": "ipython3", 
            "codemirror_mode": {
                "version": 3, 
                "name": "ipython"
            }
        }
    }, 
    "nbformat": 4
}