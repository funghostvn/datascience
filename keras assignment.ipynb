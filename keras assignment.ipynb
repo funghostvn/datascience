{
  "cells": [
    {
      "metadata": {
        "trusted": true
      },
      "cell_type": "code",
      "source": "from platform import python_version\n\nprint(python_version())",
      "execution_count": 1,
      "outputs": [
        {
          "output_type": "stream",
          "text": "3.5.4\n",
          "name": "stdout"
        }
      ]
    },
    {
      "metadata": {
        "trusted": true
      },
      "cell_type": "code",
      "source": "!pip install numpy==1.16.4\nimport numpy as np",
      "execution_count": 14,
      "outputs": [
        {
          "output_type": "stream",
          "text": "Collecting numpy==1.16.4\n\u001b[?25l  Downloading https://files.pythonhosted.org/packages/bb/ef/d5a21cbc094d3f4d5b5336494dbcc9550b70c766a8345513c7c24ed18418/numpy-1.16.4-cp35-cp35m-manylinux1_x86_64.whl (17.2MB)\n\u001b[K     |████████████████████████████████| 17.2MB 6.2MB/s eta 0:00:01    |████████▋                       | 4.7MB 1.9MB/s eta 0:00:07     |████████████████▏               | 8.7MB 4.2MB/s eta 0:00:03     |██████████████████████████▎     | 14.2MB 4.2MB/s eta 0:00:01\n\u001b[?25hInstalling collected packages: numpy\n  Found existing installation: numpy 1.16.1\n    Uninstalling numpy-1.16.1:\n      Successfully uninstalled numpy-1.16.1\nSuccessfully installed numpy-1.16.4\n\u001b[33mWARNING: You are using pip version 19.2.2, however version 19.2.3 is available.\nYou should consider upgrading via the 'pip install --upgrade pip' command.\u001b[0m\n",
          "name": "stdout"
        }
      ]
    },
    {
      "metadata": {
        "trusted": true
      },
      "cell_type": "code",
      "source": "import pip\n\ntry:\n    __import__('keras')\nexcept ImportError:\n    pip.main(['install', 'keras']) \n    \ntry:\n    __import__('h5py')\nexcept ImportError:\n    pip.main(['install', 'h5py']) \n\nimport numpy as np\nfrom keras.models import Sequential\nfrom keras.layers import Dense, Dropout\nfrom keras.utils import to_categorical\n\nseed = 1337\nnp.random.seed(seed)",
      "execution_count": 2,
      "outputs": [
        {
          "output_type": "stream",
          "text": "/home/nbuser/anaconda3_420/lib/python3.5/site-packages/h5py/__init__.py:36: FutureWarning: Conversion of the second argument of issubdtype from `float` to `np.floating` is deprecated. In future, it will be treated as `np.float64 == np.dtype(float).type`.\n  from ._conv import register_converters as _register_converters\nUsing TensorFlow backend.\n",
          "name": "stderr"
        }
      ]
    },
    {
      "metadata": {
        "trusted": true
      },
      "cell_type": "code",
      "source": "from keras.datasets import reuters\n\nmax_words = 1000\n\nnp_load_old = np.load\nnp.load = lambda *a: np_load_old(*a, allow_pickle=True)\n(x_train, y_train), (x_test, y_test) = reuters.load_data(num_words=max_words, test_split=0.2, seed=seed)\nnp.load = np_load_old\n\n\nnum_classes = np.max(y_train) + 1  # 46 topics\n\n\n",
      "execution_count": 4,
      "outputs": []
    },
    {
      "metadata": {
        "trusted": true
      },
      "cell_type": "code",
      "source": "from keras.preprocessing.text import Tokenizer\n\ntokenizer = Tokenizer(num_words=max_words)\nx_train = tokenizer.sequences_to_matrix(x_train, mode='binary')\nx_test = tokenizer.sequences_to_matrix(x_test, mode='binary')",
      "execution_count": 5,
      "outputs": []
    },
    {
      "metadata": {
        "trusted": true
      },
      "cell_type": "code",
      "source": "y_train = to_categorical(y_train, num_classes)\ny_test = to_categorical(y_test, num_classes)",
      "execution_count": 6,
      "outputs": []
    },
    {
      "metadata": {
        "trusted": true
      },
      "cell_type": "code",
      "source": "model = Sequential()  # Instantiate sequential model\nmodel.add(Dense(512, activation ='relu', input_shape=(max_words,)))# Add first layer. Make sure to specify input shape\nmodel.add(Dropout(0.5)) # Add second layer\nmodel.add(Dense(num_classes, activation='softmax')) # Add third layer",
      "execution_count": 7,
      "outputs": []
    },
    {
      "metadata": {
        "trusted": true
      },
      "cell_type": "code",
      "source": "model.compile(loss='categorical_crossentropy', optimizer='adam', metrics=['accuracy'])\nbatch_size = 32\nmodel.fit(x_train, y_train, epochs=5, batch_size=batch_size)\nscore = model.evaluate(x_test,y_test,batch_size=batch_size)",
      "execution_count": 8,
      "outputs": [
        {
          "output_type": "stream",
          "text": "Epoch 1/5\n8982/8982 [==============================] - 13s - loss: 1.3940 - acc: 0.6900    \nEpoch 2/5\n8982/8982 [==============================] - 11s - loss: 0.7719 - acc: 0.8177    \nEpoch 3/5\n8982/8982 [==============================] - 13s - loss: 0.5549 - acc: 0.8667    \nEpoch 4/5\n8982/8982 [==============================] - 13s - loss: 0.4215 - acc: 0.8920    \nEpoch 5/5\n8982/8982 [==============================] - 14s - loss: 0.3457 - acc: 0.9110    \n2246/2246 [==============================] - 0s     \n",
          "name": "stdout"
        }
      ]
    },
    {
      "metadata": {
        "trusted": true
      },
      "cell_type": "code",
      "source": "score[1]",
      "execution_count": 9,
      "outputs": [
        {
          "output_type": "execute_result",
          "execution_count": 9,
          "data": {
            "text/plain": "0.7969723953695459"
          },
          "metadata": {}
        }
      ]
    },
    {
      "metadata": {
        "trusted": true
      },
      "cell_type": "code",
      "source": "model.save(\"model.h5\")  # upload this file to the grader in the next code block",
      "execution_count": 10,
      "outputs": []
    },
    {
      "metadata": {
        "trusted": true
      },
      "cell_type": "code",
      "source": "!base64 model.h5 > model.h5.base64",
      "execution_count": 11,
      "outputs": []
    },
    {
      "metadata": {
        "trusted": true
      },
      "cell_type": "code",
      "source": "!rm -f rklib.py\n!wget https://raw.githubusercontent.com/IBM/coursera/master/rklib.py",
      "execution_count": 16,
      "outputs": [
        {
          "output_type": "stream",
          "text": "--2019-09-02 13:03:26--  https://raw.githubusercontent.com/IBM/coursera/master/rklib.py\nResolving webproxy (webproxy)... 10.36.54.1\nConnecting to webproxy (webproxy)|10.36.54.1|:3128... connected.\nProxy request sent, awaiting response... 200 OK\nLength: 2540 (2.5K) [text/plain]\nSaving to: ‘rklib.py’\n\nrklib.py            100%[===================>]   2.48K  --.-KB/s    in 0.02s   \n\n2019-09-02 13:03:26 (138 KB/s) - ‘rklib.py’ saved [2540/2540]\n\n",
          "name": "stdout"
        }
      ]
    },
    {
      "metadata": {
        "trusted": true
      },
      "cell_type": "code",
      "source": "# %load rklib.py\nimport requests, json\nimport zipfile\nimport os\n\ndef submit(submitterEmail,secret,key,submission_part, all_parts, data):\n        submission = {\n                    \"assignmentKey\": key,\n                    \"submitterEmail\":  submitterEmail,\n                    \"secret\":  secret,\n                    \"parts\": {}\n                  }\n        for part in all_parts:\n            if part == submission_part:\n                submission[\"parts\"][part] = {\"output\": data}\n            else:\n                submission[\"parts\"][part] = dict()\n        response = requests.post('https://www.coursera.org/api/onDemandProgrammingScriptSubmissions.v1', data=json.dumps(submission))\n        if response.status_code == 201:\n            print (\"Submission successful, please check on the coursera grader page for the status\")\n            print (\"-------------------------\")\n            print (response.text)\n            print (\"-------------------------\")\n        else:\n            print (\"Something went wrong, please have a look at the reponse of the grader\")\n            print (\"-------------------------\")\n            print (response.text)\n            print (\"-------------------------\")\n            \ndef submitAll(submitterEmail,secret,key,parts_and_data):\n        submission = {\n                    \"assignmentKey\": key,\n                    \"submitterEmail\":  submitterEmail,\n                    \"secret\":  secret,\n                    \"parts\": {}\n                  }\n        for part, output in parts_and_data.items():\n            if output is not None:\n                submission[\"parts\"][part] = {\"output\": output}\n            else:\n                submission[\"parts\"][part] = dict()\n        response = requests.post('https://www.coursera.org/api/onDemandProgrammingScriptSubmissions.v1', data=json.dumps(submission))\n        if response.status_code == 201:\n            print (\"Submission successful, please check on the coursera grader page for the status\")\n            print (\"-------------------------\")\n            print (response.text)\n            print (\"-------------------------\")\n        else:\n            print (\"Something went wrong, please have a look at the reponse of the grader\")\n            print (\"-------------------------\")\n            print (response.text)\n            print (\"-------------------------\")\n\n\ndef zipit(target, path):\n    zipf = zipfile.ZipFile(target, 'w', zipfile.ZIP_DEFLATED)\n    for root, dirs, files in os.walk(path):\n        for file in files:\n            zipf.write(os.path.join(root, file))\n    zipf.close()\n",
      "execution_count": 20,
      "outputs": []
    },
    {
      "metadata": {
        "trusted": true
      },
      "cell_type": "code",
      "source": "key = \"XbAMqtjdEeepUgo7OOVwng\"\npart = \"LqPRQ\"\nemail = \"binhlc@outlook.com\"\nsecret = \"bcjPwYAXdiH3p72n\"\n\nwith open('model.h5.base64', 'r') as myfile:\n    data=myfile.read()\nsubmit(email, secret, key, part, [part], data)",
      "execution_count": 21,
      "outputs": [
        {
          "output_type": "stream",
          "text": "Submission successful, please check on the coursera grader page for the status\n-------------------------\n{\"elements\":[{\"itemId\":\"ozVf2\",\"id\":\"tE4j0qhMEeecqgpT6QjMdA~ozVf2~ccDSTc2EEem5VQ4ckhacJA\",\"courseId\":\"tE4j0qhMEeecqgpT6QjMdA\"}],\"paging\":{},\"linked\":{}}\n-------------------------\n",
          "name": "stdout"
        }
      ]
    },
    {
      "metadata": {
        "trusted": true
      },
      "cell_type": "code",
      "source": "",
      "execution_count": null,
      "outputs": []
    }
  ],
  "metadata": {
    "kernelspec": {
      "name": "python3",
      "display_name": "Python 3",
      "language": "python"
    },
    "language_info": {
      "mimetype": "text/x-python",
      "nbconvert_exporter": "python",
      "name": "python",
      "pygments_lexer": "ipython3",
      "version": "3.5.4",
      "file_extension": ".py",
      "codemirror_mode": {
        "version": 3,
        "name": "ipython"
      }
    },
    "widgets": {
      "application/vnd.jupyter.widget-state+json": {
        "version_major": 2,
        "version_minor": 0,
        "state": {}
      }
    }
  },
  "nbformat": 4,
  "nbformat_minor": 2
}