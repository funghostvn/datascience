{
    "nbformat_minor": 1, 
    "cells": [
        {
            "source": "## Import and install", 
            "cell_type": "markdown", 
            "metadata": {}
        }, 
        {
            "execution_count": 9, 
            "cell_type": "code", 
            "metadata": {}, 
            "outputs": [], 
            "source": "#!conda install -c conda-forge beautifulsoup4 --yes \nfrom bs4 import BeautifulSoup"
        }, 
        {
            "execution_count": 2, 
            "cell_type": "code", 
            "metadata": {}, 
            "outputs": [], 
            "source": "import requests # library to handle requests\nimport pandas as pd # library for data analsysis\nimport numpy as np # library to handle data in a vectorized manner"
        }, 
        {
            "source": "## Download data", 
            "cell_type": "markdown", 
            "metadata": {}
        }, 
        {
            "execution_count": 5, 
            "cell_type": "code", 
            "metadata": {}, 
            "outputs": [
                {
                    "execution_count": 5, 
                    "metadata": {}, 
                    "data": {
                        "text/plain": "<Response [200]>"
                    }, 
                    "output_type": "execute_result"
                }
            ], 
            "source": "url = 'https://en.wikipedia.org/wiki/List_of_postal_codes_of_Canada:_M'\nresults = requests.get(url)\n\nsoup = BeautifulSoup(results.text, \"html.parser\")"
        }, 
        {
            "source": "## Process data", 
            "cell_type": "markdown", 
            "metadata": {}
        }, 
        {
            "execution_count": 86, 
            "cell_type": "code", 
            "metadata": {}, 
            "outputs": [
                {
                    "execution_count": 86, 
                    "metadata": {}, 
                    "data": {
                        "text/html": "<div>\n<style scoped>\n    .dataframe tbody tr th:only-of-type {\n        vertical-align: middle;\n    }\n\n    .dataframe tbody tr th {\n        vertical-align: top;\n    }\n\n    .dataframe thead th {\n        text-align: right;\n    }\n</style>\n<table border=\"1\" class=\"dataframe\">\n  <thead>\n    <tr style=\"text-align: right;\">\n      <th></th>\n      <th>Postcode</th>\n      <th>Borough</th>\n      <th>Neighbourhood</th>\n    </tr>\n  </thead>\n  <tbody>\n    <tr>\n      <th>0</th>\n      <td>M1B</td>\n      <td>Scarborough</td>\n      <td>Scarborough</td>\n    </tr>\n    <tr>\n      <th>1</th>\n      <td>M1C</td>\n      <td>Scarborough</td>\n      <td>Scarborough</td>\n    </tr>\n    <tr>\n      <th>2</th>\n      <td>M1E</td>\n      <td>Scarborough</td>\n      <td>Guildwood,None,None</td>\n    </tr>\n    <tr>\n      <th>3</th>\n      <td>M1G</td>\n      <td>Scarborough</td>\n      <td>Scarborough</td>\n    </tr>\n    <tr>\n      <th>4</th>\n      <td>M1H</td>\n      <td>Scarborough</td>\n      <td>Cedarbrae</td>\n    </tr>\n    <tr>\n      <th>5</th>\n      <td>M1J</td>\n      <td>Scarborough</td>\n      <td>Scarborough</td>\n    </tr>\n    <tr>\n      <th>6</th>\n      <td>M1K</td>\n      <td>Scarborough</td>\n      <td>East Birchmount Park,None,None</td>\n    </tr>\n    <tr>\n      <th>7</th>\n      <td>M1L</td>\n      <td>Scarborough</td>\n      <td>Scarborough</td>\n    </tr>\n    <tr>\n      <th>8</th>\n      <td>M1M</td>\n      <td>Scarborough</td>\n      <td>None,None,Scarborough Village West</td>\n    </tr>\n    <tr>\n      <th>9</th>\n      <td>M1N</td>\n      <td>Scarborough</td>\n      <td>None,Cliffside West</td>\n    </tr>\n    <tr>\n      <th>10</th>\n      <td>M1P</td>\n      <td>Scarborough</td>\n      <td>Scarborough</td>\n    </tr>\n    <tr>\n      <th>11</th>\n      <td>M1R</td>\n      <td>Scarborough</td>\n      <td>Scarborough</td>\n    </tr>\n    <tr>\n      <th>12</th>\n      <td>M1S</td>\n      <td>Scarborough</td>\n      <td>Scarborough</td>\n    </tr>\n    <tr>\n      <th>13</th>\n      <td>M1T</td>\n      <td>Scarborough</td>\n      <td>Clarks Corners,Sullivan,None</td>\n    </tr>\n    <tr>\n      <th>14</th>\n      <td>M1V</td>\n      <td>Scarborough</td>\n      <td>None,L'Amoreaux East,None,Steeles East</td>\n    </tr>\n    <tr>\n      <th>15</th>\n      <td>M1W</td>\n      <td>Scarborough</td>\n      <td>L'Amoreaux West</td>\n    </tr>\n    <tr>\n      <th>16</th>\n      <td>M1X</td>\n      <td>Scarborough</td>\n      <td>Scarborough</td>\n    </tr>\n    <tr>\n      <th>17</th>\n      <td>M2H</td>\n      <td>North York</td>\n      <td>North York</td>\n    </tr>\n    <tr>\n      <th>18</th>\n      <td>M2J</td>\n      <td>North York</td>\n      <td>Fairview,None,Oriole</td>\n    </tr>\n    <tr>\n      <th>19</th>\n      <td>M2K</td>\n      <td>North York</td>\n      <td>North York</td>\n    </tr>\n    <tr>\n      <th>20</th>\n      <td>M2L</td>\n      <td>North York</td>\n      <td>Silver Hills,None</td>\n    </tr>\n    <tr>\n      <th>21</th>\n      <td>M2M</td>\n      <td>North York</td>\n      <td>North York</td>\n    </tr>\n    <tr>\n      <th>22</th>\n      <td>M2N</td>\n      <td>North York</td>\n      <td>Willowdale South</td>\n    </tr>\n    <tr>\n      <th>23</th>\n      <td>M2P</td>\n      <td>North York</td>\n      <td>York Mills West</td>\n    </tr>\n    <tr>\n      <th>24</th>\n      <td>M2R</td>\n      <td>North York</td>\n      <td>North York</td>\n    </tr>\n    <tr>\n      <th>25</th>\n      <td>M3A</td>\n      <td>North York</td>\n      <td>North York</td>\n    </tr>\n    <tr>\n      <th>26</th>\n      <td>M3B</td>\n      <td>North York</td>\n      <td>Don Mills North</td>\n    </tr>\n    <tr>\n      <th>27</th>\n      <td>M3C</td>\n      <td>North York</td>\n      <td>None,Don Mills South</td>\n    </tr>\n    <tr>\n      <th>28</th>\n      <td>M3H</td>\n      <td>North York</td>\n      <td>None,Downsview North,None</td>\n    </tr>\n    <tr>\n      <th>29</th>\n      <td>M3J</td>\n      <td>North York</td>\n      <td>North York</td>\n    </tr>\n    <tr>\n      <th>...</th>\n      <td>...</td>\n      <td>...</td>\n      <td>...</td>\n    </tr>\n    <tr>\n      <th>73</th>\n      <td>M6C</td>\n      <td>York</td>\n      <td>York</td>\n    </tr>\n    <tr>\n      <th>74</th>\n      <td>M6E</td>\n      <td>York</td>\n      <td>Caledonia-Fairbanks</td>\n    </tr>\n    <tr>\n      <th>75</th>\n      <td>M6G</td>\n      <td>Downtown Toronto</td>\n      <td>Christie</td>\n    </tr>\n    <tr>\n      <th>76</th>\n      <td>M6H</td>\n      <td>West Toronto</td>\n      <td>None,Dufferin</td>\n    </tr>\n    <tr>\n      <th>77</th>\n      <td>M6J</td>\n      <td>West Toronto</td>\n      <td>West Toronto</td>\n    </tr>\n    <tr>\n      <th>78</th>\n      <td>M6K</td>\n      <td>West Toronto</td>\n      <td>Brockton,None,None</td>\n    </tr>\n    <tr>\n      <th>79</th>\n      <td>M6L</td>\n      <td>North York</td>\n      <td>None,North Park,Upwood Park</td>\n    </tr>\n    <tr>\n      <th>80</th>\n      <td>M6M</td>\n      <td>York</td>\n      <td>Del Ray,None,None,None</td>\n    </tr>\n    <tr>\n      <th>81</th>\n      <td>M6N</td>\n      <td>York</td>\n      <td>The Junction North,Runnymede</td>\n    </tr>\n    <tr>\n      <th>82</th>\n      <td>M6P</td>\n      <td>West Toronto</td>\n      <td>None,The Junction South</td>\n    </tr>\n    <tr>\n      <th>83</th>\n      <td>M6R</td>\n      <td>West Toronto</td>\n      <td>West Toronto</td>\n    </tr>\n    <tr>\n      <th>84</th>\n      <td>M6S</td>\n      <td>West Toronto</td>\n      <td>West Toronto</td>\n    </tr>\n    <tr>\n      <th>85</th>\n      <td>M7A</td>\n      <td>Queen's Park</td>\n      <td>Queen's Park</td>\n    </tr>\n    <tr>\n      <th>86</th>\n      <td>M7R</td>\n      <td>Mississauga</td>\n      <td>Canada Post Gateway Processing Centre</td>\n    </tr>\n    <tr>\n      <th>87</th>\n      <td>M7Y</td>\n      <td>East Toronto</td>\n      <td>Business Reply Mail Processing Centre 969 Eastern</td>\n    </tr>\n    <tr>\n      <th>88</th>\n      <td>M8V</td>\n      <td>Etobicoke</td>\n      <td>Humber Bay Shores,Mimico South,None</td>\n    </tr>\n    <tr>\n      <th>89</th>\n      <td>M8W</td>\n      <td>Etobicoke</td>\n      <td>Etobicoke</td>\n    </tr>\n    <tr>\n      <th>90</th>\n      <td>M8X</td>\n      <td>Etobicoke</td>\n      <td>None,Montgomery Road,Old Mill North</td>\n    </tr>\n    <tr>\n      <th>91</th>\n      <td>M8Y</td>\n      <td>Etobicoke</td>\n      <td>None,King's Mill Park,Kingsway Park South East...</td>\n    </tr>\n    <tr>\n      <th>92</th>\n      <td>M8Z</td>\n      <td>Etobicoke</td>\n      <td>Kingsway Park South West,None,None,Royal York ...</td>\n    </tr>\n    <tr>\n      <th>93</th>\n      <td>M9A</td>\n      <td>Etobicoke</td>\n      <td>Etobicoke</td>\n    </tr>\n    <tr>\n      <th>94</th>\n      <td>M9B</td>\n      <td>Etobicoke</td>\n      <td>Cloverdale,None,Martin Grove,None,None</td>\n    </tr>\n    <tr>\n      <th>95</th>\n      <td>M9C</td>\n      <td>Etobicoke</td>\n      <td>Bloordale Gardens,Eringate,None,Old Burnhamthorpe</td>\n    </tr>\n    <tr>\n      <th>96</th>\n      <td>M9L</td>\n      <td>North York</td>\n      <td>North York</td>\n    </tr>\n    <tr>\n      <th>97</th>\n      <td>M9M</td>\n      <td>North York</td>\n      <td>North York</td>\n    </tr>\n    <tr>\n      <th>98</th>\n      <td>M9N</td>\n      <td>York</td>\n      <td>York</td>\n    </tr>\n    <tr>\n      <th>99</th>\n      <td>M9P</td>\n      <td>Etobicoke</td>\n      <td>Westmount</td>\n    </tr>\n    <tr>\n      <th>100</th>\n      <td>M9R</td>\n      <td>Etobicoke</td>\n      <td>None,Martin Grove Gardens,Richview Gardens,St....</td>\n    </tr>\n    <tr>\n      <th>101</th>\n      <td>M9V</td>\n      <td>Etobicoke</td>\n      <td>Albion Gardens,None,Humbergate,None,None,None,...</td>\n    </tr>\n    <tr>\n      <th>102</th>\n      <td>M9W</td>\n      <td>Etobicoke</td>\n      <td>Northwest</td>\n    </tr>\n  </tbody>\n</table>\n<p>103 rows \u00d7 3 columns</p>\n</div>", 
                        "text/plain": "    Postcode           Borough  \\\n0        M1B       Scarborough   \n1        M1C       Scarborough   \n2        M1E       Scarborough   \n3        M1G       Scarborough   \n4        M1H       Scarborough   \n5        M1J       Scarborough   \n6        M1K       Scarborough   \n7        M1L       Scarborough   \n8        M1M       Scarborough   \n9        M1N       Scarborough   \n10       M1P       Scarborough   \n11       M1R       Scarborough   \n12       M1S       Scarborough   \n13       M1T       Scarborough   \n14       M1V       Scarborough   \n15       M1W       Scarborough   \n16       M1X       Scarborough   \n17       M2H        North York   \n18       M2J        North York   \n19       M2K        North York   \n20       M2L        North York   \n21       M2M        North York   \n22       M2N        North York   \n23       M2P        North York   \n24       M2R        North York   \n25       M3A        North York   \n26       M3B        North York   \n27       M3C        North York   \n28       M3H        North York   \n29       M3J        North York   \n..       ...               ...   \n73       M6C              York   \n74       M6E              York   \n75       M6G  Downtown Toronto   \n76       M6H      West Toronto   \n77       M6J      West Toronto   \n78       M6K      West Toronto   \n79       M6L        North York   \n80       M6M              York   \n81       M6N              York   \n82       M6P      West Toronto   \n83       M6R      West Toronto   \n84       M6S      West Toronto   \n85       M7A      Queen's Park   \n86       M7R       Mississauga   \n87       M7Y      East Toronto   \n88       M8V         Etobicoke   \n89       M8W         Etobicoke   \n90       M8X         Etobicoke   \n91       M8Y         Etobicoke   \n92       M8Z         Etobicoke   \n93       M9A         Etobicoke   \n94       M9B         Etobicoke   \n95       M9C         Etobicoke   \n96       M9L        North York   \n97       M9M        North York   \n98       M9N              York   \n99       M9P         Etobicoke   \n100      M9R         Etobicoke   \n101      M9V         Etobicoke   \n102      M9W         Etobicoke   \n\n                                         Neighbourhood  \n0                                          Scarborough  \n1                                          Scarborough  \n2                                  Guildwood,None,None  \n3                                          Scarborough  \n4                                            Cedarbrae  \n5                                          Scarborough  \n6                       East Birchmount Park,None,None  \n7                                          Scarborough  \n8                   None,None,Scarborough Village West  \n9                                  None,Cliffside West  \n10                                         Scarborough  \n11                                         Scarborough  \n12                                         Scarborough  \n13                        Clarks Corners,Sullivan,None  \n14              None,L'Amoreaux East,None,Steeles East  \n15                                     L'Amoreaux West  \n16                                         Scarborough  \n17                                          North York  \n18                                Fairview,None,Oriole  \n19                                          North York  \n20                                   Silver Hills,None  \n21                                          North York  \n22                                    Willowdale South  \n23                                     York Mills West  \n24                                          North York  \n25                                          North York  \n26                                     Don Mills North  \n27                                None,Don Mills South  \n28                           None,Downsview North,None  \n29                                          North York  \n..                                                 ...  \n73                                                York  \n74                                 Caledonia-Fairbanks  \n75                                            Christie  \n76                                       None,Dufferin  \n77                                        West Toronto  \n78                                  Brockton,None,None  \n79                         None,North Park,Upwood Park  \n80                              Del Ray,None,None,None  \n81                        The Junction North,Runnymede  \n82                             None,The Junction South  \n83                                        West Toronto  \n84                                        West Toronto  \n85                                        Queen's Park  \n86               Canada Post Gateway Processing Centre  \n87   Business Reply Mail Processing Centre 969 Eastern  \n88                 Humber Bay Shores,Mimico South,None  \n89                                           Etobicoke  \n90                 None,Montgomery Road,Old Mill North  \n91   None,King's Mill Park,Kingsway Park South East...  \n92   Kingsway Park South West,None,None,Royal York ...  \n93                                           Etobicoke  \n94              Cloverdale,None,Martin Grove,None,None  \n95   Bloordale Gardens,Eringate,None,Old Burnhamthorpe  \n96                                          North York  \n97                                          North York  \n98                                                York  \n99                                           Westmount  \n100  None,Martin Grove Gardens,Richview Gardens,St....  \n101  Albion Gardens,None,Humbergate,None,None,None,...  \n102                                          Northwest  \n\n[103 rows x 3 columns]"
                    }, 
                    "output_type": "execute_result"
                }
            ], 
            "source": "soup.table.tbody\n\n# Create Dataframe\n\nrow = []\nfor tr in soup.table.tbody.find_all('tr'):\n    td = tr.find_all('td')\n    if len(td)==0:\n        th = tr.find_all('th')\n        col=[str(th[0].string).rstrip(),str(th[1].string).rstrip(),str(th[2].string).rstrip()]\n    else:\n        #if (td[2].string.find(\"Not assigned\") > 0):\n        row.append([str(td[0].string).rstrip(),str(td[1].string).rstrip(),str(td[2].string).rstrip()]) \n\n#col = ['Postcode','Borough','Neighbourhood']\ndf_pc = pd.DataFrame(row,columns=col)\n\n# Remove NA\n\ndf_pc = df_pc[df_pc[col[1]] != 'Not assigned']\n\n# asign Neighbourhood by Borough\n\n\n# Group Postcode\n\n#df_pc = df_pc.groupby([col[0],col[1]]).agg({col[2]: lambda x: x.nunique()})\ndf_pc = df_pc.groupby([col[0],col[1]])[col[2]].agg(lambda x: ','.join(x)).reset_index(name ='col[2]')\ndf_pc.columns = col\n\ndf_pc[col[2]].replace('None','',inplace=True)\ndf_pc[col[2]].replace('None,None','',inplace=True)\n\n\ndf_pc[col[2]] = np.where(df_pc[col[2]] == 'Not assigned', df_pc[col[1]] , df_pc[col[2]] )\ndf_pc[col[2]] = np.where(df_pc[col[2]] == '', df_pc[col[1]] , df_pc[col[2]] )\ndf_pc[col[2]] = np.where(df_pc[col[2]] == 'None,None,None', df_pc[col[1]] , df_pc[col[2]] )\n\ndf_pc\n\n\n"
        }, 
        {
            "execution_count": 87, 
            "cell_type": "code", 
            "metadata": {}, 
            "outputs": [
                {
                    "execution_count": 87, 
                    "metadata": {}, 
                    "data": {
                        "text/plain": "(103, 3)"
                    }, 
                    "output_type": "execute_result"
                }
            ], 
            "source": "df_pc.shape"
        }, 
        {
            "execution_count": null, 
            "cell_type": "code", 
            "metadata": {}, 
            "outputs": [], 
            "source": "#!conda install -c conda-forge geocoder --yes \nimport geocoder # import geocoder\n\ndf_pc['Latitude'],df_pc['Longitude'] =  df_pc.apply(GetLocation, axis = 1) \n\n# initialize your variable to None\ndef GetLocation(x):\n    lat_lng_coords = None\n    # loop until you get the coordinates\n    #while(lat_lng_coords is None):\n    g = geocoder.google('{}, {}'.format(x.Postcode,x.Neighbourhood))\n    lat_lng_coords = g.latlng\n\n    latitude = lat_lng_coords[0]\n    longitude = lat_lng_coords[1]\n    return latitude,longitude\ndf_pc"
        }, 
        {
            "execution_count": 93, 
            "cell_type": "code", 
            "metadata": {}, 
            "outputs": [], 
            "source": ""
        }, 
        {
            "execution_count": null, 
            "cell_type": "code", 
            "metadata": {}, 
            "outputs": [], 
            "source": ""
        }
    ], 
    "metadata": {
        "kernelspec": {
            "display_name": "Python 3.6", 
            "name": "python3", 
            "language": "python"
        }, 
        "language_info": {
            "mimetype": "text/x-python", 
            "nbconvert_exporter": "python", 
            "version": "3.6.8", 
            "name": "python", 
            "file_extension": ".py", 
            "pygments_lexer": "ipython3", 
            "codemirror_mode": {
                "version": 3, 
                "name": "ipython"
            }
        }
    }, 
    "nbformat": 4
}